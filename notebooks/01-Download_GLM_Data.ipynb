{
 "cells": [
  {
   "cell_type": "code",
   "execution_count": 1,
   "metadata": {},
   "outputs": [],
   "source": [
    "from tqdm import tqdm\n",
    "import pathlib\n",
    "from datetime import datetime, timedelta\n",
    "import requests\n",
    "import s3fs\n"
   ]
  },
  {
   "cell_type": "code",
   "execution_count": 2,
   "metadata": {},
   "outputs": [],
   "source": [
    "BASE_DIR = '../data/goes/goes16'\n",
    "START_DATE = datetime.strptime('2025-01-01 13:00', '%Y-%m-%d %H:%M')\n",
    "END_DATE = datetime.strptime('2025-01-01 13:10', '%Y-%m-%d %H:%M')\n",
    "BASE_URL = \"s3://noaa-goes16\""
   ]
  },
  {
   "cell_type": "code",
   "execution_count": 3,
   "metadata": {},
   "outputs": [],
   "source": [
    "def download_file(url: str, dest_path: pathlib.Path) -> pathlib.Path:\n",
    "\tfilename = url.split('/')[-1]\n",
    "\tdest_file = dest_path / filename\n",
    "\ttry:\n",
    "\t\tfs = s3fs.S3FileSystem(anon=True)\n",
    "\t\tfs.get(url, str(dest_file))\n",
    "\texcept Exception as e:\n",
    "\t\tprint(f\"Failed to download {filename}: {e}\")\n",
    "\treturn dest_file"
   ]
  },
  {
   "cell_type": "code",
   "execution_count": null,
   "metadata": {},
   "outputs": [
    {
     "name": "stdout",
     "output_type": "stream",
     "text": [
      "Total timestamps to process: 60\n"
     ]
    },
    {
     "name": "stderr",
     "output_type": "stream",
     "text": [
      "Processing timestamps:   0%|          | 0/60 [00:00<?, ?it/s]\n"
     ]
    },
    {
     "ename": "ConfigParseError",
     "evalue": "Unable to parse config file: /home/adriano/.aws/credentials",
     "output_type": "error",
     "traceback": [
      "\u001b[31m---------------------------------------------------------------------------\u001b[39m",
      "\u001b[31mConfigParseError\u001b[39m                          Traceback (most recent call last)",
      "\u001b[36mCell\u001b[39m\u001b[36m \u001b[39m\u001b[32mIn[4]\u001b[39m\u001b[32m, line 17\u001b[39m\n\u001b[32m     15\u001b[39m url = \u001b[33mf\u001b[39m\u001b[33m\"\u001b[39m\u001b[38;5;132;01m{\u001b[39;00mBASE_URL\u001b[38;5;132;01m}\u001b[39;00m\u001b[33m/GLM-L2-LCFA/\u001b[39m\u001b[38;5;132;01m{\u001b[39;00myear\u001b[38;5;132;01m}\u001b[39;00m\u001b[33m/\u001b[39m\u001b[38;5;132;01m{\u001b[39;00mday_of_year\u001b[38;5;132;01m}\u001b[39;00m\u001b[33m/\u001b[39m\u001b[38;5;132;01m{\u001b[39;00mhour\u001b[38;5;132;01m}\u001b[39;00m\u001b[33m\"\u001b[39m\n\u001b[32m     16\u001b[39m fs = s3fs.S3FileSystem(anon=\u001b[38;5;28;01mTrue\u001b[39;00m)\n\u001b[32m---> \u001b[39m\u001b[32m17\u001b[39m files = \u001b[43mfs\u001b[49m\u001b[43m.\u001b[49m\u001b[43mls\u001b[49m\u001b[43m(\u001b[49m\u001b[43murl\u001b[49m\u001b[43m)\u001b[49m\n\u001b[32m     18\u001b[39m files = \u001b[38;5;28mlist\u001b[39m(\u001b[38;5;28mfilter\u001b[39m(\u001b[38;5;28;01mlambda\u001b[39;00m x: x.split(\u001b[33m'\u001b[39m\u001b[33m/\u001b[39m\u001b[33m'\u001b[39m)[-\u001b[32m1\u001b[39m].startswith(\u001b[33mf\u001b[39m\u001b[33m\"\u001b[39m\u001b[33mOR_GLM-L2-LCFA_G16_s\u001b[39m\u001b[38;5;132;01m{\u001b[39;00myear\u001b[38;5;132;01m}\u001b[39;00m\u001b[38;5;132;01m{\u001b[39;00mday_of_year\u001b[38;5;132;01m}\u001b[39;00m\u001b[38;5;132;01m{\u001b[39;00mhour\u001b[38;5;132;01m}\u001b[39;00m\u001b[38;5;132;01m{\u001b[39;00mminute\u001b[38;5;132;01m}\u001b[39;00m\u001b[33m\"\u001b[39m), files))\n\u001b[32m     20\u001b[39m dest_dir = pathlib.Path(BASE_DIR) / year / day_of_year / hour\n",
      "\u001b[36mFile \u001b[39m\u001b[32m~/Doutorado/cap408-goes-lecture/.venv/lib/python3.12/site-packages/fsspec/asyn.py:118\u001b[39m, in \u001b[36msync_wrapper.<locals>.wrapper\u001b[39m\u001b[34m(*args, **kwargs)\u001b[39m\n\u001b[32m    115\u001b[39m \u001b[38;5;129m@functools\u001b[39m.wraps(func)\n\u001b[32m    116\u001b[39m \u001b[38;5;28;01mdef\u001b[39;00m\u001b[38;5;250m \u001b[39m\u001b[34mwrapper\u001b[39m(*args, **kwargs):\n\u001b[32m    117\u001b[39m     \u001b[38;5;28mself\u001b[39m = obj \u001b[38;5;129;01mor\u001b[39;00m args[\u001b[32m0\u001b[39m]\n\u001b[32m--> \u001b[39m\u001b[32m118\u001b[39m     \u001b[38;5;28;01mreturn\u001b[39;00m \u001b[43msync\u001b[49m\u001b[43m(\u001b[49m\u001b[38;5;28;43mself\u001b[39;49m\u001b[43m.\u001b[49m\u001b[43mloop\u001b[49m\u001b[43m,\u001b[49m\u001b[43m \u001b[49m\u001b[43mfunc\u001b[49m\u001b[43m,\u001b[49m\u001b[43m \u001b[49m\u001b[43m*\u001b[49m\u001b[43margs\u001b[49m\u001b[43m,\u001b[49m\u001b[43m \u001b[49m\u001b[43m*\u001b[49m\u001b[43m*\u001b[49m\u001b[43mkwargs\u001b[49m\u001b[43m)\u001b[49m\n",
      "\u001b[36mFile \u001b[39m\u001b[32m~/Doutorado/cap408-goes-lecture/.venv/lib/python3.12/site-packages/fsspec/asyn.py:103\u001b[39m, in \u001b[36msync\u001b[39m\u001b[34m(loop, func, timeout, *args, **kwargs)\u001b[39m\n\u001b[32m    101\u001b[39m     \u001b[38;5;28;01mraise\u001b[39;00m FSTimeoutError \u001b[38;5;28;01mfrom\u001b[39;00m\u001b[38;5;250m \u001b[39m\u001b[34;01mreturn_result\u001b[39;00m\n\u001b[32m    102\u001b[39m \u001b[38;5;28;01melif\u001b[39;00m \u001b[38;5;28misinstance\u001b[39m(return_result, \u001b[38;5;167;01mBaseException\u001b[39;00m):\n\u001b[32m--> \u001b[39m\u001b[32m103\u001b[39m     \u001b[38;5;28;01mraise\u001b[39;00m return_result\n\u001b[32m    104\u001b[39m \u001b[38;5;28;01melse\u001b[39;00m:\n\u001b[32m    105\u001b[39m     \u001b[38;5;28;01mreturn\u001b[39;00m return_result\n",
      "\u001b[36mFile \u001b[39m\u001b[32m~/Doutorado/cap408-goes-lecture/.venv/lib/python3.12/site-packages/fsspec/asyn.py:56\u001b[39m, in \u001b[36m_runner\u001b[39m\u001b[34m(event, coro, result, timeout)\u001b[39m\n\u001b[32m     54\u001b[39m     coro = asyncio.wait_for(coro, timeout=timeout)\n\u001b[32m     55\u001b[39m \u001b[38;5;28;01mtry\u001b[39;00m:\n\u001b[32m---> \u001b[39m\u001b[32m56\u001b[39m     result[\u001b[32m0\u001b[39m] = \u001b[38;5;28;01mawait\u001b[39;00m coro\n\u001b[32m     57\u001b[39m \u001b[38;5;28;01mexcept\u001b[39;00m \u001b[38;5;167;01mException\u001b[39;00m \u001b[38;5;28;01mas\u001b[39;00m ex:\n\u001b[32m     58\u001b[39m     result[\u001b[32m0\u001b[39m] = ex\n",
      "\u001b[36mFile \u001b[39m\u001b[32m~/Doutorado/cap408-goes-lecture/.venv/lib/python3.12/site-packages/s3fs/core.py:1040\u001b[39m, in \u001b[36mS3FileSystem._ls\u001b[39m\u001b[34m(self, path, detail, refresh, versions)\u001b[39m\n\u001b[32m   1038\u001b[39m     files = \u001b[38;5;28;01mawait\u001b[39;00m \u001b[38;5;28mself\u001b[39m._lsbuckets(refresh)\n\u001b[32m   1039\u001b[39m \u001b[38;5;28;01melse\u001b[39;00m:\n\u001b[32m-> \u001b[39m\u001b[32m1040\u001b[39m     files = \u001b[38;5;28;01mawait\u001b[39;00m \u001b[38;5;28mself\u001b[39m._lsdir(path, refresh, versions=versions)\n\u001b[32m   1041\u001b[39m     \u001b[38;5;28;01mif\u001b[39;00m \u001b[38;5;129;01mnot\u001b[39;00m files \u001b[38;5;129;01mand\u001b[39;00m \u001b[33m\"\u001b[39m\u001b[33m/\u001b[39m\u001b[33m\"\u001b[39m \u001b[38;5;129;01min\u001b[39;00m path:\n\u001b[32m   1042\u001b[39m         \u001b[38;5;28;01mtry\u001b[39;00m:\n",
      "\u001b[36mFile \u001b[39m\u001b[32m~/Doutorado/cap408-goes-lecture/.venv/lib/python3.12/site-packages/s3fs/core.py:755\u001b[39m, in \u001b[36mS3FileSystem._lsdir\u001b[39m\u001b[34m(self, path, refresh, max_items, delimiter, prefix, versions)\u001b[39m\n\u001b[32m    753\u001b[39m dirs = []\n\u001b[32m    754\u001b[39m files = []\n\u001b[32m--> \u001b[39m\u001b[32m755\u001b[39m \u001b[38;5;28;01masync\u001b[39;00m \u001b[38;5;28;01mfor\u001b[39;00m c \u001b[38;5;129;01min\u001b[39;00m \u001b[38;5;28mself\u001b[39m._iterdir(\n\u001b[32m    756\u001b[39m     bucket,\n\u001b[32m    757\u001b[39m     max_items=max_items,\n\u001b[32m    758\u001b[39m     delimiter=delimiter,\n\u001b[32m    759\u001b[39m     prefix=prefix,\n\u001b[32m    760\u001b[39m     versions=versions,\n\u001b[32m    761\u001b[39m ):\n\u001b[32m    762\u001b[39m     \u001b[38;5;28;01mif\u001b[39;00m c[\u001b[33m\"\u001b[39m\u001b[33mtype\u001b[39m\u001b[33m\"\u001b[39m] == \u001b[33m\"\u001b[39m\u001b[33mdirectory\u001b[39m\u001b[33m\"\u001b[39m:\n\u001b[32m    763\u001b[39m         dirs.append(c)\n",
      "\u001b[36mFile \u001b[39m\u001b[32m~/Doutorado/cap408-goes-lecture/.venv/lib/python3.12/site-packages/s3fs/core.py:786\u001b[39m, in \u001b[36mS3FileSystem._iterdir\u001b[39m\u001b[34m(self, bucket, max_items, delimiter, prefix, versions)\u001b[39m\n\u001b[32m    782\u001b[39m \u001b[38;5;28;01mif\u001b[39;00m versions \u001b[38;5;129;01mand\u001b[39;00m \u001b[38;5;129;01mnot\u001b[39;00m \u001b[38;5;28mself\u001b[39m.version_aware:\n\u001b[32m    783\u001b[39m     \u001b[38;5;28;01mraise\u001b[39;00m \u001b[38;5;167;01mValueError\u001b[39;00m(\n\u001b[32m    784\u001b[39m         \u001b[33m\"\u001b[39m\u001b[33mversions cannot be specified if the filesystem is not version aware\u001b[39m\u001b[33m\"\u001b[39m\n\u001b[32m    785\u001b[39m     )\n\u001b[32m--> \u001b[39m\u001b[32m786\u001b[39m \u001b[38;5;28;01mawait\u001b[39;00m \u001b[38;5;28mself\u001b[39m.set_session()\n\u001b[32m    787\u001b[39m s3 = \u001b[38;5;28;01mawait\u001b[39;00m \u001b[38;5;28mself\u001b[39m.get_s3(bucket)\n\u001b[32m    788\u001b[39m \u001b[38;5;28;01mif\u001b[39;00m \u001b[38;5;28mself\u001b[39m.version_aware:\n",
      "\u001b[36mFile \u001b[39m\u001b[32m~/Doutorado/cap408-goes-lecture/.venv/lib/python3.12/site-packages/s3fs/core.py:572\u001b[39m, in \u001b[36mS3FileSystem.set_session\u001b[39m\u001b[34m(self, refresh, kwargs)\u001b[39m\n\u001b[32m    568\u001b[39m \u001b[38;5;28;01melse\u001b[39;00m:\n\u001b[32m    569\u001b[39m     s3creator = \u001b[38;5;28mself\u001b[39m.session.create_client(\n\u001b[32m    570\u001b[39m         \u001b[33m\"\u001b[39m\u001b[33ms3\u001b[39m\u001b[33m\"\u001b[39m, config=conf, **init_kwargs, **client_kwargs\n\u001b[32m    571\u001b[39m     )\n\u001b[32m--> \u001b[39m\u001b[32m572\u001b[39m     \u001b[38;5;28mself\u001b[39m._s3 = \u001b[38;5;28;01mawait\u001b[39;00m s3creator.\u001b[34m__aenter__\u001b[39m()\n\u001b[32m    574\u001b[39m \u001b[38;5;28mself\u001b[39m._s3creator = s3creator\n\u001b[32m    575\u001b[39m \u001b[38;5;66;03m# the following actually closes the aiohttp connection; use of privates\u001b[39;00m\n\u001b[32m    576\u001b[39m \u001b[38;5;66;03m# might break in the future, would cause exception at gc time\u001b[39;00m\n",
      "\u001b[36mFile \u001b[39m\u001b[32m~/Doutorado/cap408-goes-lecture/.venv/lib/python3.12/site-packages/aiobotocore/session.py:31\u001b[39m, in \u001b[36mClientCreatorContext.__aenter__\u001b[39m\u001b[34m(self)\u001b[39m\n\u001b[32m     30\u001b[39m \u001b[38;5;28;01masync\u001b[39;00m \u001b[38;5;28;01mdef\u001b[39;00m\u001b[38;5;250m \u001b[39m\u001b[34m__aenter__\u001b[39m(\u001b[38;5;28mself\u001b[39m) -> AioBaseClient:\n\u001b[32m---> \u001b[39m\u001b[32m31\u001b[39m     \u001b[38;5;28mself\u001b[39m._client = \u001b[38;5;28;01mawait\u001b[39;00m \u001b[38;5;28mself\u001b[39m._coro\n\u001b[32m     32\u001b[39m     \u001b[38;5;28;01mreturn\u001b[39;00m \u001b[38;5;28;01mawait\u001b[39;00m \u001b[38;5;28mself\u001b[39m._client.\u001b[34m__aenter__\u001b[39m()\n",
      "\u001b[36mFile \u001b[39m\u001b[32m~/Doutorado/cap408-goes-lecture/.venv/lib/python3.12/site-packages/aiobotocore/context.py:36\u001b[39m, in \u001b[36mwith_current_context.<locals>.decorator.<locals>.wrapper\u001b[39m\u001b[34m(*args, **kwargs)\u001b[39m\n\u001b[32m     34\u001b[39m \u001b[38;5;28;01mif\u001b[39;00m hook:\n\u001b[32m     35\u001b[39m     \u001b[38;5;28;01mawait\u001b[39;00m resolve_awaitable(hook())\n\u001b[32m---> \u001b[39m\u001b[32m36\u001b[39m \u001b[38;5;28;01mreturn\u001b[39;00m \u001b[38;5;28;01mawait\u001b[39;00m func(*args, **kwargs)\n",
      "\u001b[36mFile \u001b[39m\u001b[32m~/Doutorado/cap408-goes-lecture/.venv/lib/python3.12/site-packages/aiobotocore/session.py:156\u001b[39m, in \u001b[36mAioSession._create_client\u001b[39m\u001b[34m(self, service_name, region_name, api_version, use_ssl, verify, endpoint_url, aws_access_key_id, aws_secret_access_key, aws_session_token, config, aws_account_id)\u001b[39m\n\u001b[32m    153\u001b[39m \u001b[38;5;28;01melif\u001b[39;00m default_client_config \u001b[38;5;129;01mis\u001b[39;00m \u001b[38;5;129;01mnot\u001b[39;00m \u001b[38;5;28;01mNone\u001b[39;00m:\n\u001b[32m    154\u001b[39m     config = default_client_config\n\u001b[32m--> \u001b[39m\u001b[32m156\u001b[39m region_name = \u001b[38;5;28;43mself\u001b[39;49m\u001b[43m.\u001b[49m\u001b[43m_resolve_region_name\u001b[49m\u001b[43m(\u001b[49m\u001b[43mregion_name\u001b[49m\u001b[43m,\u001b[49m\u001b[43m \u001b[49m\u001b[43mconfig\u001b[49m\u001b[43m)\u001b[49m\n\u001b[32m    158\u001b[39m \u001b[38;5;66;03m# Figure out the verify value base on the various\u001b[39;00m\n\u001b[32m    159\u001b[39m \u001b[38;5;66;03m# configuration options.\u001b[39;00m\n\u001b[32m    160\u001b[39m \u001b[38;5;28;01mif\u001b[39;00m verify \u001b[38;5;129;01mis\u001b[39;00m \u001b[38;5;28;01mNone\u001b[39;00m:\n",
      "\u001b[36mFile \u001b[39m\u001b[32m~/Doutorado/cap408-goes-lecture/.venv/lib/python3.12/site-packages/botocore/session.py:1054\u001b[39m, in \u001b[36mSession._resolve_region_name\u001b[39m\u001b[34m(self, region_name, config)\u001b[39m\n\u001b[32m   1052\u001b[39m         region_name = config.region_name\n\u001b[32m   1053\u001b[39m     \u001b[38;5;28;01melse\u001b[39;00m:\n\u001b[32m-> \u001b[39m\u001b[32m1054\u001b[39m         region_name = \u001b[38;5;28;43mself\u001b[39;49m\u001b[43m.\u001b[49m\u001b[43mget_config_variable\u001b[49m\u001b[43m(\u001b[49m\u001b[33;43m'\u001b[39;49m\u001b[33;43mregion\u001b[39;49m\u001b[33;43m'\u001b[39;49m\u001b[43m)\u001b[49m\n\u001b[32m   1056\u001b[39m validate_region_name(region_name)\n\u001b[32m   1057\u001b[39m \u001b[38;5;66;03m# For any client that we create in retrieving credentials\u001b[39;00m\n\u001b[32m   1058\u001b[39m \u001b[38;5;66;03m# we want to create it using the same region as specified in\u001b[39;00m\n\u001b[32m   1059\u001b[39m \u001b[38;5;66;03m# creating this client. It is important to note though that the\u001b[39;00m\n\u001b[32m   (...)\u001b[39m\u001b[32m   1064\u001b[39m \u001b[38;5;66;03m# the credentials returned at regional endpoints are valid across\u001b[39;00m\n\u001b[32m   1065\u001b[39m \u001b[38;5;66;03m# all regions in the partition.\u001b[39;00m\n",
      "\u001b[36mFile \u001b[39m\u001b[32m~/Doutorado/cap408-goes-lecture/.venv/lib/python3.12/site-packages/botocore/session.py:325\u001b[39m, in \u001b[36mSession.get_config_variable\u001b[39m\u001b[34m(self, logical_name, methods)\u001b[39m\n\u001b[32m    321\u001b[39m \u001b[38;5;28;01mif\u001b[39;00m methods \u001b[38;5;129;01mis\u001b[39;00m \u001b[38;5;129;01mnot\u001b[39;00m \u001b[38;5;28;01mNone\u001b[39;00m:\n\u001b[32m    322\u001b[39m     \u001b[38;5;28;01mreturn\u001b[39;00m \u001b[38;5;28mself\u001b[39m._get_config_variable_with_custom_methods(\n\u001b[32m    323\u001b[39m         logical_name, methods\n\u001b[32m    324\u001b[39m     )\n\u001b[32m--> \u001b[39m\u001b[32m325\u001b[39m \u001b[38;5;28;01mreturn\u001b[39;00m \u001b[38;5;28;43mself\u001b[39;49m\u001b[43m.\u001b[49m\u001b[43mget_component\u001b[49m\u001b[43m(\u001b[49m\u001b[33;43m'\u001b[39;49m\u001b[33;43mconfig_store\u001b[39;49m\u001b[33;43m'\u001b[39;49m\u001b[43m)\u001b[49m\u001b[43m.\u001b[49m\u001b[43mget_config_variable\u001b[49m\u001b[43m(\u001b[49m\n\u001b[32m    326\u001b[39m \u001b[43m    \u001b[49m\u001b[43mlogical_name\u001b[49m\n\u001b[32m    327\u001b[39m \u001b[43m\u001b[49m\u001b[43m)\u001b[49m\n",
      "\u001b[36mFile \u001b[39m\u001b[32m~/Doutorado/cap408-goes-lecture/.venv/lib/python3.12/site-packages/botocore/configprovider.py:502\u001b[39m, in \u001b[36mConfigValueStore.get_config_variable\u001b[39m\u001b[34m(self, logical_name)\u001b[39m\n\u001b[32m    500\u001b[39m     \u001b[38;5;28;01mreturn\u001b[39;00m \u001b[38;5;28;01mNone\u001b[39;00m\n\u001b[32m    501\u001b[39m provider = \u001b[38;5;28mself\u001b[39m._mapping[logical_name]\n\u001b[32m--> \u001b[39m\u001b[32m502\u001b[39m \u001b[38;5;28;01mreturn\u001b[39;00m \u001b[43mprovider\u001b[49m\u001b[43m.\u001b[49m\u001b[43mprovide\u001b[49m\u001b[43m(\u001b[49m\u001b[43m)\u001b[49m\n",
      "\u001b[36mFile \u001b[39m\u001b[32m~/Doutorado/cap408-goes-lecture/.venv/lib/python3.12/site-packages/botocore/configprovider.py:708\u001b[39m, in \u001b[36mChainProvider.provide\u001b[39m\u001b[34m(self)\u001b[39m\n\u001b[32m    701\u001b[39m \u001b[38;5;250m\u001b[39m\u001b[33;03m\"\"\"Provide the value from the first provider to return non-None.\u001b[39;00m\n\u001b[32m    702\u001b[39m \n\u001b[32m    703\u001b[39m \u001b[33;03mEach provider in the chain has its provide method called. The first\u001b[39;00m\n\u001b[32m    704\u001b[39m \u001b[33;03mone in the chain to return a non-None value is the returned from the\u001b[39;00m\n\u001b[32m    705\u001b[39m \u001b[33;03mChainProvider. When no non-None value is found, None is returned.\u001b[39;00m\n\u001b[32m    706\u001b[39m \u001b[33;03m\"\"\"\u001b[39;00m\n\u001b[32m    707\u001b[39m \u001b[38;5;28;01mfor\u001b[39;00m provider \u001b[38;5;129;01min\u001b[39;00m \u001b[38;5;28mself\u001b[39m._providers:\n\u001b[32m--> \u001b[39m\u001b[32m708\u001b[39m     value = \u001b[43mprovider\u001b[49m\u001b[43m.\u001b[49m\u001b[43mprovide\u001b[49m\u001b[43m(\u001b[49m\u001b[43m)\u001b[49m\n\u001b[32m    709\u001b[39m     \u001b[38;5;28;01mif\u001b[39;00m value \u001b[38;5;129;01mis\u001b[39;00m \u001b[38;5;129;01mnot\u001b[39;00m \u001b[38;5;28;01mNone\u001b[39;00m:\n\u001b[32m    710\u001b[39m         \u001b[38;5;28;01mreturn\u001b[39;00m \u001b[38;5;28mself\u001b[39m._convert_type(value)\n",
      "\u001b[36mFile \u001b[39m\u001b[32m~/Doutorado/cap408-goes-lecture/.venv/lib/python3.12/site-packages/botocore/configprovider.py:795\u001b[39m, in \u001b[36mScopedConfigProvider.provide\u001b[39m\u001b[34m(self)\u001b[39m\n\u001b[32m    793\u001b[39m \u001b[38;5;28;01mdef\u001b[39;00m\u001b[38;5;250m \u001b[39m\u001b[34mprovide\u001b[39m(\u001b[38;5;28mself\u001b[39m):\n\u001b[32m    794\u001b[39m \u001b[38;5;250m    \u001b[39m\u001b[33;03m\"\"\"Provide a value from a config file property.\"\"\"\u001b[39;00m\n\u001b[32m--> \u001b[39m\u001b[32m795\u001b[39m     scoped_config = \u001b[38;5;28;43mself\u001b[39;49m\u001b[43m.\u001b[49m\u001b[43m_session\u001b[49m\u001b[43m.\u001b[49m\u001b[43mget_scoped_config\u001b[49m\u001b[43m(\u001b[49m\u001b[43m)\u001b[49m\n\u001b[32m    796\u001b[39m     \u001b[38;5;28;01mif\u001b[39;00m \u001b[38;5;28misinstance\u001b[39m(\u001b[38;5;28mself\u001b[39m._config_var_name, \u001b[38;5;28mtuple\u001b[39m):\n\u001b[32m    797\u001b[39m         section_config = scoped_config.get(\u001b[38;5;28mself\u001b[39m._config_var_name[\u001b[32m0\u001b[39m])\n",
      "\u001b[36mFile \u001b[39m\u001b[32m~/Doutorado/cap408-goes-lecture/.venv/lib/python3.12/site-packages/botocore/session.py:414\u001b[39m, in \u001b[36mSession.get_scoped_config\u001b[39m\u001b[34m(self)\u001b[39m\n\u001b[32m    392\u001b[39m \u001b[38;5;250m\u001b[39m\u001b[33;03m\"\"\"\u001b[39;00m\n\u001b[32m    393\u001b[39m \u001b[33;03mReturns the config values from the config file scoped to the current\u001b[39;00m\n\u001b[32m    394\u001b[39m \u001b[33;03mprofile.\u001b[39;00m\n\u001b[32m   (...)\u001b[39m\u001b[32m    411\u001b[39m \n\u001b[32m    412\u001b[39m \u001b[33;03m\"\"\"\u001b[39;00m\n\u001b[32m    413\u001b[39m profile_name = \u001b[38;5;28mself\u001b[39m.get_config_variable(\u001b[33m'\u001b[39m\u001b[33mprofile\u001b[39m\u001b[33m'\u001b[39m)\n\u001b[32m--> \u001b[39m\u001b[32m414\u001b[39m profile_map = \u001b[38;5;28;43mself\u001b[39;49m\u001b[43m.\u001b[49m\u001b[43m_build_profile_map\u001b[49m\u001b[43m(\u001b[49m\u001b[43m)\u001b[49m\n\u001b[32m    415\u001b[39m \u001b[38;5;66;03m# If a profile is not explicitly set return the default\u001b[39;00m\n\u001b[32m    416\u001b[39m \u001b[38;5;66;03m# profile config or an empty config dict if we don't have\u001b[39;00m\n\u001b[32m    417\u001b[39m \u001b[38;5;66;03m# a default profile.\u001b[39;00m\n\u001b[32m    418\u001b[39m \u001b[38;5;28;01mif\u001b[39;00m profile_name \u001b[38;5;129;01mis\u001b[39;00m \u001b[38;5;28;01mNone\u001b[39;00m:\n",
      "\u001b[36mFile \u001b[39m\u001b[32m~/Doutorado/cap408-goes-lecture/.venv/lib/python3.12/site-packages/botocore/session.py:310\u001b[39m, in \u001b[36mSession._build_profile_map\u001b[39m\u001b[34m(self)\u001b[39m\n\u001b[32m    305\u001b[39m \u001b[38;5;28;01mdef\u001b[39;00m\u001b[38;5;250m \u001b[39m\u001b[34m_build_profile_map\u001b[39m(\u001b[38;5;28mself\u001b[39m):\n\u001b[32m    306\u001b[39m     \u001b[38;5;66;03m# This will build the profile map if it has not been created,\u001b[39;00m\n\u001b[32m    307\u001b[39m     \u001b[38;5;66;03m# otherwise it will return the cached value.  The profile map\u001b[39;00m\n\u001b[32m    308\u001b[39m     \u001b[38;5;66;03m# is a list of profile names, to the config values for the profile.\u001b[39;00m\n\u001b[32m    309\u001b[39m     \u001b[38;5;28;01mif\u001b[39;00m \u001b[38;5;28mself\u001b[39m._profile_map \u001b[38;5;129;01mis\u001b[39;00m \u001b[38;5;28;01mNone\u001b[39;00m:\n\u001b[32m--> \u001b[39m\u001b[32m310\u001b[39m         \u001b[38;5;28mself\u001b[39m._profile_map = \u001b[38;5;28;43mself\u001b[39;49m\u001b[43m.\u001b[49m\u001b[43mfull_config\u001b[49m[\u001b[33m'\u001b[39m\u001b[33mprofiles\u001b[39m\u001b[33m'\u001b[39m]\n\u001b[32m    311\u001b[39m     \u001b[38;5;28;01mreturn\u001b[39;00m \u001b[38;5;28mself\u001b[39m._profile_map\n",
      "\u001b[36mFile \u001b[39m\u001b[32m~/Doutorado/cap408-goes-lecture/.venv/lib/python3.12/site-packages/botocore/session.py:451\u001b[39m, in \u001b[36mSession.full_config\u001b[39m\u001b[34m(self)\u001b[39m\n\u001b[32m    444\u001b[39m \u001b[38;5;28;01mtry\u001b[39;00m:\n\u001b[32m    445\u001b[39m     \u001b[38;5;66;03m# Now we need to inject the profiles from the\u001b[39;00m\n\u001b[32m    446\u001b[39m     \u001b[38;5;66;03m# credentials file.  We don't actually need the values\u001b[39;00m\n\u001b[32m    447\u001b[39m     \u001b[38;5;66;03m# in the creds file, only the profile names so that we\u001b[39;00m\n\u001b[32m    448\u001b[39m     \u001b[38;5;66;03m# can validate the user is not referring to a nonexistent\u001b[39;00m\n\u001b[32m    449\u001b[39m     \u001b[38;5;66;03m# profile.\u001b[39;00m\n\u001b[32m    450\u001b[39m     cred_file = \u001b[38;5;28mself\u001b[39m.get_config_variable(\u001b[33m'\u001b[39m\u001b[33mcredentials_file\u001b[39m\u001b[33m'\u001b[39m)\n\u001b[32m--> \u001b[39m\u001b[32m451\u001b[39m     cred_profiles = \u001b[43mbotocore\u001b[49m\u001b[43m.\u001b[49m\u001b[43mconfigloader\u001b[49m\u001b[43m.\u001b[49m\u001b[43mraw_config_parse\u001b[49m\u001b[43m(\u001b[49m\n\u001b[32m    452\u001b[39m \u001b[43m        \u001b[49m\u001b[43mcred_file\u001b[49m\n\u001b[32m    453\u001b[39m \u001b[43m    \u001b[49m\u001b[43m)\u001b[49m\n\u001b[32m    454\u001b[39m     \u001b[38;5;28;01mfor\u001b[39;00m profile \u001b[38;5;129;01min\u001b[39;00m cred_profiles:\n\u001b[32m    455\u001b[39m         cred_vars = cred_profiles[profile]\n",
      "\u001b[36mFile \u001b[39m\u001b[32m~/Doutorado/cap408-goes-lecture/.venv/lib/python3.12/site-packages/botocore/configloader.py:150\u001b[39m, in \u001b[36mraw_config_parse\u001b[39m\u001b[34m(config_filename, parse_subsections)\u001b[39m\n\u001b[32m    148\u001b[39m     cp.read([path])\n\u001b[32m    149\u001b[39m \u001b[38;5;28;01mexcept\u001b[39;00m (configparser.Error, \u001b[38;5;167;01mUnicodeDecodeError\u001b[39;00m) \u001b[38;5;28;01mas\u001b[39;00m e:\n\u001b[32m--> \u001b[39m\u001b[32m150\u001b[39m     \u001b[38;5;28;01mraise\u001b[39;00m botocore.exceptions.ConfigParseError(\n\u001b[32m    151\u001b[39m         path=_unicode_path(path), error=e\n\u001b[32m    152\u001b[39m     ) \u001b[38;5;28;01mfrom\u001b[39;00m\u001b[38;5;250m \u001b[39m\u001b[38;5;28;01mNone\u001b[39;00m\n\u001b[32m    153\u001b[39m \u001b[38;5;28;01melse\u001b[39;00m:\n\u001b[32m    154\u001b[39m     \u001b[38;5;28;01mfor\u001b[39;00m section \u001b[38;5;129;01min\u001b[39;00m cp.sections():\n",
      "\u001b[31mConfigParseError\u001b[39m: Unable to parse config file: /home/adriano/.aws/credentials"
     ]
    }
   ],
   "source": [
    "datetimes = []\n",
    "current_datetime = START_DATE\n",
    "\n",
    "while current_datetime < END_DATE:\n",
    "    datetimes.append(current_datetime)\n",
    "    current_datetime += timedelta(minutes=1)\n",
    "print(f\"Total timestamps to process: {len(datetimes)}\")\n",
    "progress_bar = tqdm(datetimes, desc=\"Processing timestamps\")\n",
    "for dt in progress_bar:\n",
    "    year = dt.strftime('%Y')\n",
    "    day_of_year = dt.strftime('%j')\n",
    "    hour = dt.strftime('%H')\n",
    "    minute = dt.strftime('%M')\n",
    "    \n",
    "    url = f\"{BASE_URL}/GLM-L2-LCFA/{year}/{day_of_year}/{hour}\"\n",
    "    fs = s3fs.S3FileSystem(anon=True)\n",
    "    files = fs.ls(url)\n",
    "    files = list(filter(lambda x: x.split('/')[-1].startswith(f\"OR_GLM-L2-LCFA_G16_s{year}{day_of_year}{hour}{minute}\"), files))\n",
    "    \n",
    "    dest_dir = pathlib.Path(BASE_DIR) / year / day_of_year / hour\n",
    "    dest_dir.mkdir(parents=True, exist_ok=True)\n",
    "    \n",
    "    if len(files) > 0:\n",
    "        date_dir = pathlib.Path(current_datetime.strftime('%Y/%m/%d'))\n",
    "        product = pathlib.Path('GLM')\n",
    "        dest_dir = pathlib.Path(BASE_DIR) / product / date_dir\n",
    "        dest_dir.mkdir(parents=True, exist_ok=True)\n",
    "        for file in files:\n",
    "            download_file(file, dest_dir)\n"
   ]
  }
 ],
 "metadata": {
  "kernelspec": {
   "display_name": "cap408-goes-lecture",
   "language": "python",
   "name": "python3"
  },
  "language_info": {
   "codemirror_mode": {
    "name": "ipython",
    "version": 3
   },
   "file_extension": ".py",
   "mimetype": "text/x-python",
   "name": "python",
   "nbconvert_exporter": "python",
   "pygments_lexer": "ipython3",
   "version": "3.12.6"
  }
 },
 "nbformat": 4,
 "nbformat_minor": 2
}
