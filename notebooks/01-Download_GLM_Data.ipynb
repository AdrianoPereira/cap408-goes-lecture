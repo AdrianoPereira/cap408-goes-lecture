{
 "cells": [
  {
   "cell_type": "code",
   "execution_count": 1,
   "metadata": {},
   "outputs": [],
   "source": [
    "from tqdm import tqdm\n",
    "import pathlib\n",
    "from datetime import datetime, timedelta\n",
    "import requests\n",
    "import s3fs\n"
   ]
  },
  {
   "cell_type": "code",
   "execution_count": 2,
   "metadata": {},
   "outputs": [],
   "source": [
    "BASE_DIR = '../data/goes/goes16'\n",
    "START_DATE = datetime.strptime('2025-01-01 13:00', '%Y-%m-%d %H:%M')\n",
    "END_DATE = datetime.strptime('2025-01-01 13:10', '%Y-%m-%d %H:%M')\n",
    "BASE_URL = \"s3://noaa-goes16\""
   ]
  },
  {
   "cell_type": "code",
   "execution_count": 3,
   "metadata": {},
   "outputs": [],
   "source": [
    "def download_file(url: str, dest_path: pathlib.Path) -> pathlib.Path:\n",
    "\tfilename = url.split('/')[-1]\n",
    "\tdest_file = dest_path / filename\n",
    "\ttry:\n",
    "\t\tfs = s3fs.S3FileSystem(anon=True)\n",
    "\t\tfs.get(url, str(dest_file))\n",
    "\texcept Exception as e:\n",
    "\t\tprint(f\"Failed to download {filename}: {e}\")\n",
    "\treturn dest_file"
   ]
  },
  {
   "cell_type": "code",
   "execution_count": 5,
   "metadata": {},
   "outputs": [
    {
     "name": "stdout",
     "output_type": "stream",
     "text": [
      "Total timestamps to process: 10\n"
     ]
    },
    {
     "name": "stderr",
     "output_type": "stream",
     "text": [
      "Processing timestamps: 100%|██████████| 10/10 [00:17<00:00,  1.73s/it]\n"
     ]
    }
   ],
   "source": [
    "datetimes = []\n",
    "current_datetime = START_DATE\n",
    "\n",
    "while current_datetime < END_DATE:\n",
    "    datetimes.append(current_datetime)\n",
    "    current_datetime += timedelta(minutes=1)\n",
    "print(f\"Total timestamps to process: {len(datetimes)}\")\n",
    "progress_bar = tqdm(datetimes, desc=\"Processing timestamps\")\n",
    "for dt in progress_bar:\n",
    "    year = dt.strftime('%Y')\n",
    "    day_of_year = dt.strftime('%j')\n",
    "    hour = dt.strftime('%H')\n",
    "    minute = dt.strftime('%M')\n",
    "    \n",
    "    url = f\"{BASE_URL}/GLM-L2-LCFA/{year}/{day_of_year}/{hour}\"\n",
    "    fs = s3fs.S3FileSystem(anon=True)\n",
    "    files = fs.ls(url)\n",
    "    files = list(filter(lambda x: x.split('/')[-1].startswith(f\"OR_GLM-L2-LCFA_G16_s{year}{day_of_year}{hour}{minute}\"), files))\n",
    "    \n",
    "    dest_dir = pathlib.Path(BASE_DIR) / year / day_of_year / hour\n",
    "    dest_dir.mkdir(parents=True, exist_ok=True)\n",
    "    \n",
    "    if len(files) > 0:\n",
    "        date_dir = pathlib.Path(current_datetime.strftime('%Y/%m/%d'))\n",
    "        product = pathlib.Path('GLM')\n",
    "        dest_dir = pathlib.Path(BASE_DIR) / product / date_dir\n",
    "        dest_dir.mkdir(parents=True, exist_ok=True)\n",
    "        for file in files:\n",
    "            download_file(file, dest_dir)\n"
   ]
  }
 ],
 "metadata": {
  "kernelspec": {
   "display_name": "cap408-goes-lecture",
   "language": "python",
   "name": "python3"
  },
  "language_info": {
   "codemirror_mode": {
    "name": "ipython",
    "version": 3
   },
   "file_extension": ".py",
   "mimetype": "text/x-python",
   "name": "python",
   "nbconvert_exporter": "python",
   "pygments_lexer": "ipython3",
   "version": "3.12.6"
  }
 },
 "nbformat": 4,
 "nbformat_minor": 2
}
